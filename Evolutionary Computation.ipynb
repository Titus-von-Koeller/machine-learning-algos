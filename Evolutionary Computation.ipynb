{
 "metadata": {
  "name": "",
  "signature": "sha256:ce45c9fe38a24844bc34695ff619d6dd0dfa3f76315397951ca24a62457663c7"
 },
 "nbformat": 3,
 "nbformat_minor": 0,
 "worksheets": [
  {
   "cells": [
    {
     "cell_type": "markdown",
     "metadata": {},
     "source": [
      "Question 1. \n",
      "-----------\n",
      "Implement a binary Genetic Algorithm that uses fitness proportional selection, 1-point crossover, and bit-flip mutation to solve the problem in which the fitness is the number of 1s in the chromosome, i.e. the optimal solution is the chromosome where all genes are set to 1.\n",
      "\n",
      "A. (40 points) Run the algorithm 10 times for each of the four following versions of the problem: l = 5, 10, 20, 50, where l is the length of the chromosomes. Vary the population size and mutation rate to obtain good results (fast solution).\n",
      "\n",
      "B. (10 points) Plot the best fitness in each generation (averaged over the 10 runs), for each of the four problems. There should be one graph with four curves, the x-axis being the generations, and the y-axis the average (best) fitness.\n"
     ]
    },
    {
     "cell_type": "code",
     "collapsed": false,
     "input": [
      "from numpy import arange\n",
      "from numpy.random import choice, randint\n",
      "\n",
      "\n",
      "def random_population(pop_size, length):\n",
      "    pop = []\n",
      "    for x in arange(pop_size):\n",
      "        pop.append((''.join(choice(('0','1')) for _ in arange(length))))\n",
      "    return pop \n",
      "\n",
      "from __future__ import division\n",
      "\n",
      "def fitness_eval(population):\n",
      "    rv = []\n",
      "    for bits in population:\n",
      "        ones = 0.0\n",
      "        for bit in bits:\n",
      "            if bit == '1':\n",
      "                ones += 1\n",
      "        fitness = ones/len(bits)\n",
      "        rv.append(fitness)\n",
      "    return rv\n",
      "\n",
      "def repro_probs(population):\n",
      "    fitness_sum = sum(fitness_eval(population))\n",
      "    rv = []\n",
      "    for fitness in fitness_eval(population):\n",
      "        repro_prob = fitness / fitness_sum\n",
      "        rv.append(repro_prob)\n",
      "    return rv\n",
      "\n",
      "from numpy.random import choice, randint\n",
      "\n",
      "def select(population):\n",
      "    tot_offspring = 0\n",
      "    breeding_pop = []\n",
      "    while tot_offspring < len(population):\n",
      "        parents = choice(population,p=repro_probs(population),size=2)\n",
      "        num_children = randint(2, len(pop)//2)\n",
      "        if tot_offspring + num_children > len(population):\n",
      "              num_children = len(population)-tot_offspring\n",
      "        breeding_pop.append((parents,num_children))\n",
      "        tot_offspring += num_children\n",
      "    return breeding_pop\n",
      "\n",
      "def crossover(genome1, genome2):\n",
      "    x_point = randint(0, len(genome1))\n",
      "    child1 = genome1[:x_point]+genome2[x_point:]\n",
      "    child2 = genome2[:x_point]+genome1[x_point:]\n",
      "    return choice([child1,child2])\n",
      "\n",
      "def breed(population, mutation_rate):\n",
      "    breeding_pop = select(population)\n",
      "    rv = []\n",
      "    for (genome1,genome2), num_children in breeding_pop:\n",
      "        for _ in xrange(num_children):\n",
      "            child = crossover(genome1,genome2)\n",
      "            for c in choice([True, False],\n",
      "                            p=[mutation_rate, 1-mutation_rate],\n",
      "                            size=len(child)//5):\n",
      "                if c:\n",
      "                    child = mutate(child)\n",
      "            rv.append(child)\n",
      "    return rv\n",
      "\n",
      "def mutate(genome):\n",
      "    pos = randint(0,len(genome))\n",
      "    return genome[:pos] + ('1' if genome[pos] == '0' else '0') + genome[pos+1:]\n"
     ],
     "language": "python",
     "metadata": {},
     "outputs": [],
     "prompt_number": 194
    },
    {
     "cell_type": "code",
     "collapsed": false,
     "input": [
      "p = random_population(10,5)\n",
      "breed(p, .1), p"
     ],
     "language": "python",
     "metadata": {},
     "outputs": [
      {
       "metadata": {},
       "output_type": "pyout",
       "prompt_number": 216,
       "text": [
        "(['10010',\n",
        "  '01100',\n",
        "  '11100',\n",
        "  '10000',\n",
        "  '10001',\n",
        "  '11001',\n",
        "  '10011',\n",
        "  '10011',\n",
        "  '11111',\n",
        "  '10010'],\n",
        " ['11000',\n",
        "  '01100',\n",
        "  '10001',\n",
        "  '11101',\n",
        "  '01111',\n",
        "  '10010',\n",
        "  '01100',\n",
        "  '01001',\n",
        "  '01000',\n",
        "  '00001'])"
       ]
      }
     ],
     "prompt_number": 216
    },
    {
     "cell_type": "code",
     "collapsed": false,
     "input": [
      "NUM_RUNS, NUM_STEPS, POP_SIZE = 10, 250, 100\n",
      "MUTATION_RATE = .1\n",
      "\n",
      "\n",
      "groups = {length: empty(dtype='O', shape=(NUM_STEPS+1, NUM_RUNS)) for length in {5, 10, 20, 50}}\n",
      "for length, group in groups.items():\n",
      "    for run in xrange(NUM_RUNS):\n",
      "        group[0,run] = random_population(POP_SIZE, length)\n",
      "\n",
      "for length, group in groups.items():\n",
      "    for run in xrange(NUM_RUNS):\n",
      "        for step in xrange(NUM_STEPS):\n",
      "            group[step+1, run] = breed(group[step, run], MUTATION_RATE)           "
     ],
     "language": "python",
     "metadata": {},
     "outputs": [],
     "prompt_number": 227
    },
    {
     "cell_type": "code",
     "collapsed": true,
     "input": [
      "%matplotlib inline"
     ],
     "language": "python",
     "metadata": {},
     "outputs": [],
     "prompt_number": 228
    },
    {
     "cell_type": "code",
     "collapsed": false,
     "input": [
      "from matplotlib.pyplot import plot, legend\n",
      "from numpy import arange, mean, max\n",
      "\n",
      "for length, group in groups.items():\n",
      "    xs = arange(NUM_STEPS +1)\n",
      "    ys = [mean([max(fitness_eval(group[step,run])) for run in xrange(NUM_RUNS)]) for step in xs]\n",
      "    plot(xs,ys, label='{}'.format(length))\n",
      "legend(loc='upper left')"
     ],
     "language": "python",
     "metadata": {},
     "outputs": [
      {
       "metadata": {},
       "output_type": "pyout",
       "prompt_number": 229,
       "text": [
        "<matplotlib.legend.Legend at 0x1087c6250>"
       ]
      },
      {
       "metadata": {},
       "output_type": "display_data",
       "png": "[encoded data removed]",
       "text": [
        "<matplotlib.figure.Figure at 0x1087c69d0>"
       ]
      }
     ],
     "prompt_number": 229
    },
    {
     "cell_type": "markdown",
     "metadata": {},
     "source": [
      "<hr>"
     ]
    },
    {
     "cell_type": "markdown",
     "metadata": {},
     "source": [
      "Question 2. \n",
      "-----------\n",
      "\n",
      "Implement (1+\u03bb)-ES to optimize the following function:\n",
      "  \n",
      "$$f(x_1 \\cdots x_n) = \\sum_{i=1}^{N-1} [(1-x_i)^2 + 100(x_{i+1} - x_i^2)^2]$$ \n",
      "\n",
      "known as the Rosenbrock function (http://en.wikipedia.org/wiki/Rosenbrock_function),\n",
      "where N is the number of dimensions, and $$\u22125 \u2264 x_i \u2264 10, i = 1,2,...,N$$\n",
      "\n",
      "A. (40 points) Run the algorithm 10 times for each of the following four settings, N = 5, 10, 20, 50.\n",
      "Choose your own \u03bb.\n",
      "\n",
      "B. (10 points) Plot the average fitness (over the 10 runs) of the parent in each generation for each N . As with question 1B, there should be four curves here."
     ]
    },
    {
     "cell_type": "code",
     "collapsed": false,
     "input": [
      "# genome: [x0, x1, ... xn, mut_r]\n",
      "from __future__ import division\n",
      "from numpy import sum, clip, array, concatenate, argmin, sqrt, repeat, exp, hstack, vstack\n",
      "from numpy.random import normal, uniform\n",
      "\n",
      "\n",
      "def init_pop(N, pop_size):\n",
      "    return array([concatenate([uniform(low=-5, high=10, size=N),  # problem parameters\n",
      "                              [15.0]                              # strategy parameter\n",
      "                              ]) for genome in xrange(pop_size)])\n",
      "    \n",
      "def fitness(x):\n",
      "    return sum(((1-x[i])**2 + 100*(x[i+1] - x[i]**2)**2) for i in xrange(len(x)-1))\n",
      "\n",
      "def pop_fitness(population):\n",
      "    return array([fitness(genome) for genome in population[:, :-1]])\n",
      "\n",
      "def select(population):\n",
      "    return population[argmin(pop_fitness(population))]\n",
      "\n",
      "def breed(population):\n",
      "    len_genome    = population.shape[1]-1\n",
      "    learning_rate = 1/sqrt(len_genome)\n",
      "    parent        = select(population)\n",
      "    num_children  = population.shape[0]-1\n",
      "    child_strats  = repeat(parent[-1], num_children).reshape(num_children,1)\n",
      "    child_strats *= exp(normal(0.0, sqrt(learning_rate), num_children)).reshape(child_strats.shape)\n",
      "    child_genoms  = tile(parent[:-1], (num_children,1)) \n",
      "    child_genoms += normal(0.0,sqrt(repeat(child_strats,len_genome))).reshape(child_genoms.shape)\n",
      "    return vstack([parent,hstack([child_genoms,child_strats])])\n",
      "    \n",
      "def new_pop(genomes):\n",
      "    return mutate(parent(genomes))\n",
      "    \n",
      "population = init_pop(5,10)\n",
      "\n",
      "breed(population)\n"
     ],
     "language": "python",
     "metadata": {},
     "outputs": [
      {
       "metadata": {},
       "output_type": "pyout",
       "prompt_number": 162,
       "text": [
        "array([[  1.16874471e+00,   2.54649858e+00,  -2.72896902e+00,\n",
        "          1.15373009e+00,   1.45523808e-01,   1.50000000e+01],\n",
        "       [  7.61529390e+00,  -1.44600895e+00,  -1.50064467e+00,\n",
        "          1.71550187e+00,   2.50855128e+00,   6.67987058e+00],\n",
        "       [  2.15113405e-02,   3.38436312e+00,  -3.43164995e+00,\n",
        "          8.25882117e-01,  -3.66996161e-01,   1.14848359e+01],\n",
        "       [  3.53628222e+00,   5.51671517e+00,  -3.64289942e+00,\n",
        "         -3.00646310e+00,  -8.72895920e+00,   1.19705720e+01],\n",
        "       [  1.35184935e+01,   2.65033479e+00,   3.14859838e+00,\n",
        "          1.09909046e+01,  -1.64911143e+00,   3.09729362e+01],\n",
        "       [  3.98439836e+00,   3.45638714e+00,  -1.88786972e+00,\n",
        "         -6.15335879e+00,  -6.03985208e-01,   1.06437884e+01],\n",
        "       [  8.85102444e-01,  -2.96907218e-01,   4.27940016e+00,\n",
        "          8.37831769e+00,  -6.75675323e+00,   4.37105731e+01],\n",
        "       [  1.32162059e+00,  -3.35688389e+00,   1.60344556e-01,\n",
        "          5.53952891e+00,  -4.65435815e-01,   2.01436588e+01],\n",
        "       [  2.54269539e+00,   2.01549682e+01,  -1.28356412e+01,\n",
        "         -2.98360015e-02,   8.62087170e+00,   5.41498873e+01],\n",
        "       [  6.25702430e+00,   3.22647052e+00,   1.71158649e+00,\n",
        "          1.31081628e+00,  -7.66491903e-02,   6.81346992e+00]])"
       ]
      }
     ],
     "prompt_number": 162
    },
    {
     "cell_type": "code",
     "collapsed": false,
     "input": [
      "%%time\n",
      "\n",
      "from numpy import empty\n",
      "\n",
      "POP_SIZE, NUM_STEPS, NUM_RUNS = 500, 50, 10\n",
      "lengths =  {length:empty(shape=(NUM_RUNS,NUM_STEPS+1,POP_SIZE,length+1)) for length in (5,10,20,50)}\n",
      "\n",
      "for length, group in lengths.items():\n",
      "    for run in xrange(NUM_RUNS):\n",
      "        group[run, 0] = init_pop(length, POP_SIZE)\n",
      "        \n",
      "for length, group in lengths.items():\n",
      "    for run in xrange(NUM_RUNS):\n",
      "        for step in xrange(NUM_STEPS):\n",
      "            group[run,step+1] = breed(group[run, step])\n",
      "            \n",
      "#for length, group in lengths.items():\n",
      "#    print length, [select(group[r,-1]) for r in range(NUM_RUNS)]"
     ],
     "language": "python",
     "metadata": {},
     "outputs": [
      {
       "output_type": "stream",
       "stream": "stdout",
       "text": [
        "CPU times: user 33 s, sys: 400 ms, total: 33.4 s\n",
        "Wall time: 34.1 s\n"
       ]
      }
     ],
     "prompt_number": 174
    },
    {
     "cell_type": "code",
     "collapsed": false,
     "input": [
      "%matplotlib inline"
     ],
     "language": "python",
     "metadata": {},
     "outputs": [],
     "prompt_number": 165
    },
    {
     "cell_type": "code",
     "collapsed": false,
     "input": [
      "from matplotlib.pyplot import plot\n",
      "\n",
      "for length, group in lengths.items():\n",
      "    xs = arange(NUM_STEPS+1)\n",
      "    ys = [mean([min(fitness(group[run,step])) for run in xrange(NUM_RUNS)])\n",
      "          for step in xrange(NUM_STEPS+1)]\n",
      "    \n",
      "    plot(xs, ys, label = 'length {}'.format(length))\n",
      "    \n",
      "legend(loc='upper right')\n"
     ],
     "language": "python",
     "metadata": {},
     "outputs": [
      {
       "metadata": {},
       "output_type": "pyout",
       "prompt_number": 175,
       "text": [
        "<matplotlib.legend.Legend at 0x10c5aff90>"
       ]
      },
      {
       "metadata": {},
       "output_type": "display_data",
       "png": "[encoded data removed]",
       "text": [
        "<matplotlib.figure.Figure at 0x10c5af050>"
       ]
      }
     ],
     "prompt_number": 175
    },
    {
     "cell_type": "code",
     "collapsed": false,
     "input": [
      "NUM_STEPS = 30\n",
      "from matplotlib.pyplot import plot\n",
      "\n",
      "for length, group in lengths.items():\n",
      "    xs = arange(NUM_STEPS+1)\n",
      "    ys = [mean([min(fitness(group[run,step])) for run in xrange(NUM_RUNS)])\n",
      "          for step in xrange(NUM_STEPS+1)]\n",
      "    \n",
      "    plot(xs, ys, label = 'length {}'.format(length))\n",
      "    \n",
      "legend(loc='upper right')\n"
     ],
     "language": "python",
     "metadata": {},
     "outputs": [
      {
       "metadata": {},
       "output_type": "pyout",
       "prompt_number": 176,
       "text": [
        "<matplotlib.legend.Legend at 0x10c57ab50>"
       ]
      },
      {
       "metadata": {},
       "output_type": "display_data",
       "png": "[encoded data removed]",
       "text": [
        "<matplotlib.figure.Figure at 0x10c57a610>"
       ]
      }
     ],
     "prompt_number": 176
    }
   ],
   "metadata": {}
  }
 ]
}